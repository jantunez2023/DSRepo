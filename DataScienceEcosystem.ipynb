{
 "cells": [
  {
   "cell_type": "markdown",
   "id": "033a8d7b-3b2e-470e-8b5d-f92104f71031",
   "metadata": {},
   "source": [
    "# Data Science Tools and Ecosystems"
   ]
  },
  {
   "cell_type": "markdown",
   "id": "022c6925-3b7d-4065-ad69-7483efa5a516",
   "metadata": {},
   "source": [
    "# In this notebook, Data Science Tools and Ecosystem are summarized."
   ]
  },
  {
   "cell_type": "markdown",
   "id": "3b17a98b-8ebc-4464-8452-b0520cbfc261",
   "metadata": {},
   "source": [
    "***Objectives:***\n",
    "- Popular Data Scientists Languages\n",
    "- Common Libraries for Data Scientists\n",
    "- Data Science Tools\n",
    "- Examples of Aritmetic expressions"
   ]
  },
  {
   "cell_type": "markdown",
   "id": "e5674173-3a57-45fc-bf9e-a748d0068aa7",
   "metadata": {
    "tags": []
   },
   "source": [
    "## Some of the popular languages that Data Scientists use are:\n",
    "## 1. Python\n",
    "## 2. R\n",
    "## 3. Julia\n"
   ]
  },
  {
   "cell_type": "markdown",
   "id": "0077cdab-d1ab-4a0b-9fbd-aa0feeb74a0f",
   "metadata": {},
   "source": [
    "## Some of the commonly used libraries used by Data Scientists include:\n",
    "## dplyr for Data Manipulation\n",
    "## stringr for String Manipulation\n",
    "## ggplot for Data Visualization\n",
    "## caret for Machine Learning"
   ]
  },
  {
   "cell_type": "markdown",
   "id": "b73030f4-0a5e-4b08-873e-d4d9acfb8823",
   "metadata": {},
   "source": [
    "| Data Science Tools |\n",
    "| ------------------ |\n",
    "| Jupiter Lab        |\n",
    "| Apache Zeppelin    |\n",
    "| R Studio           |\n",
    "| Spyder             |\n"
   ]
  },
  {
   "cell_type": "markdown",
   "id": "4b4e66dc-77d2-4b43-9019-ef1a8d06f606",
   "metadata": {},
   "source": [
    "### Below are a few examples of evaluating aritmetic expressions in Python."
   ]
  },
  {
   "cell_type": "code",
   "execution_count": 3,
   "id": "3aecb69c-141c-489c-9951-ae0c8e5ffdea",
   "metadata": {
    "tags": []
   },
   "outputs": [
    {
     "data": {
      "text/plain": [
       "17"
      ]
     },
     "execution_count": 3,
     "metadata": {},
     "output_type": "execute_result"
    }
   ],
   "source": [
    "# This is a simple aritmetic expression to multiply then add integers.\n",
    "(3*4)+5"
   ]
  },
  {
   "cell_type": "code",
   "execution_count": 4,
   "id": "c881b5dd-a88e-4125-a049-e0a2752b2453",
   "metadata": {
    "tags": []
   },
   "outputs": [
    {
     "data": {
      "text/plain": [
       "3.3333333333333335"
      ]
     },
     "execution_count": 4,
     "metadata": {},
     "output_type": "execute_result"
    }
   ],
   "source": [
    "# This operation will convert 200 minutes to hours by dividing by 60\n",
    "200/60"
   ]
  },
  {
   "cell_type": "markdown",
   "id": "26e6b6a3-469b-4b9c-9df3-b1c46b019b30",
   "metadata": {},
   "source": [
    "## Author\n",
    "## José Luis Antúnez Sales"
   ]
  },
  {
   "cell_type": "markdown",
   "id": "deb5d1d0-63b9-4f89-8345-578f8a8fa424",
   "metadata": {},
   "source": []
  }
 ],
 "metadata": {
  "kernelspec": {
   "display_name": "Python",
   "language": "python",
   "name": "conda-env-python-py"
  },
  "language_info": {
   "codemirror_mode": {
    "name": "ipython",
    "version": 3
   },
   "file_extension": ".py",
   "mimetype": "text/x-python",
   "name": "python",
   "nbconvert_exporter": "python",
   "pygments_lexer": "ipython3",
   "version": "3.7.12"
  }
 },
 "nbformat": 4,
 "nbformat_minor": 5
}
