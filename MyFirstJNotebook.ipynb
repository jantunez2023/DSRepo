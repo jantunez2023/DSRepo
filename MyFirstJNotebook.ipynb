{
    "cells": [
        {
            "cell_type": "markdown",
            "metadata": {
                "collapsed": true
            },
            "source": "# This is my first Jupyter Notebook"
        },
        {
            "cell_type": "code",
            "execution_count": null,
            "metadata": {},
            "outputs": [],
            "source": "import math\n\n# Funci\u00f3n para calcular la suma de una lista de n\u00fameros\ndef calcular_suma(numeros):\n    return sum(numeros)\n\n# Funci\u00f3n para calcular el promedio de una lista de n\u00fameros\ndef calcular_promedio(numeros):\n    return sum(numeros) / len(numeros)\n\n# Funci\u00f3n para calcular la desviaci\u00f3n est\u00e1ndar de una lista de n\u00fameros\ndef calcular_desviacion_estandar(numeros):\n    promedio = calcular_promedio(numeros)\n    variance = sum((x - promedio) ** 2 for x in numeros) / len(numeros)\n    return math.sqrt(variance)\n\n# Solicitar al usuario ingresar 10 n\u00fameros reales\nnumeros = []\nfor i in range(10):\n    numero = float(input(\"Ingrese el n\u00famero {}: \".format(i + 1)))\n    numeros.append(numero)\n\n# Calcular suma, promedio y desviaci\u00f3n est\u00e1ndar\nsuma = calcular_suma(numeros)\npromedio = calcular_promedio(numeros)\ndesviacion_estandar = calcular_desviacion_estandar(numeros)\n\n# Imprimir resultados\nprint(\"La suma de los n\u00fameros es:\", suma)\nprint(\"El promedio de los n\u00fameros es:\", promedio)\nprint(\"La desviaci\u00f3n est\u00e1ndar de los n\u00fameros es:\", desviacion_estandar)"
        }
    ],
    "metadata": {
        "kernelspec": {
            "display_name": "Python 3.10",
            "language": "python",
            "name": "python3"
        },
        "language_info": {
            "codemirror_mode": {
                "name": "ipython",
                "version": 3
            },
            "file_extension": ".py",
            "mimetype": "text/x-python",
            "name": "python",
            "nbconvert_exporter": "python",
            "pygments_lexer": "ipython3",
            "version": "3.10.13"
        }
    },
    "nbformat": 4,
    "nbformat_minor": 1
}